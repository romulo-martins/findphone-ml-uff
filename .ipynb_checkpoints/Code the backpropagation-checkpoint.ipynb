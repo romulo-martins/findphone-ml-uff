{
 "cells": [
  {
   "cell_type": "markdown",
   "metadata": {},
   "source": [
    "# Code The Backpropagation\n"
   ]
  },
  {
   "cell_type": "markdown",
   "metadata": {},
   "source": [
    "Esta implementação foi baseada no exemplo do notebook backpropagation passo-a-passo, tanto os dados quanto as ideias."
   ]
  },
  {
   "cell_type": "code",
   "execution_count": 269,
   "metadata": {},
   "outputs": [],
   "source": [
    "import numpy as np"
   ]
  },
  {
   "cell_type": "code",
   "execution_count": 270,
   "metadata": {},
   "outputs": [],
   "source": [
    "class Neuron:\n",
    "    def __init__(self, weights, bias):\n",
    "        self.weights = weights\n",
    "        self.bias = bias\n",
    "        \n",
    "    def calculate_output(self, inputs):\n",
    "        self.output = self.activation(self.net(inputs))\n",
    "        return self.output\n",
    "        \n",
    "    # Realiza o calculo de soma(W*x + b)    \n",
    "    def net(self, inputs):\n",
    "        return np.dot(self.weights, inputs) + self.bias    \n",
    "    \n",
    "    # Função de ativação, no caso estamos utilizando a função logistica f(x) = 1/(1 + exp(-x)) que gera curva sigmoide\n",
    "    def activation(self, net):\n",
    "        return 1.0 / (1.0 + np.exp(-net))\n",
    "\n",
    "    # Derivada da função logistica, se f'(x) = f(x)(1 - f(x))\n",
    "    def derivative_activation(self):\n",
    "        return self.output*(1 - self.output)\n",
    "    \n",
    "    def calculate_delta(self, target):\n",
    "        self.delta = (self.output - target)*self.derivative_activation() \n",
    "        return self.delta\n",
    "    \n",
    "    def update_weights(self, learning_rate, errors_total_weights):\n",
    "        for i in range(0, len(self.weights)):\n",
    "            self.weights[i] -= learning_rate * errors_total_weights[i]\n",
    "        "
   ]
  },
  {
   "cell_type": "code",
   "execution_count": 271,
   "metadata": {},
   "outputs": [],
   "source": [
    "class NeuralNetwork:\n",
    "    LEARNING_RATE = 0.5\n",
    "    \n",
    "    # Número de entradas de dados, número de nós na camada oculta e número de nós de saida.\n",
    "    def __init__(self, num_inputs, num_hidden, num_outputs):\n",
    "        self.num_inputs = num_inputs\n",
    "        self.num_hidden = num_hidden\n",
    "        self.num_outputs = num_outputs\n",
    "        \n",
    "        # OBS: Dados de teste do artigo que serviu de base\n",
    "        self.hidden_layer = [ Neuron([.15, .20], .35), Neuron([.25, .30], .35) ]\n",
    "        self.output_layer = [ Neuron([.40, .45], .60), Neuron([.50, .55], .60) ]\n",
    "        \n",
    "        # self.hidden_layer = self.init_layer_weights(num_inputs, num_hidden)\n",
    "        # self.output_layer = self.init_layer_weights(num_hidden, num_outputs)\n",
    "        \n",
    "    # Inicia as camadas de neuronios com pesos gerados aleatoriamente para cada neuronio     \n",
    "    def init_layer_weights(self, num_weights, num_neurons):\n",
    "        neurons_layer = []\n",
    "        for i in range(0, num_neurons):\n",
    "            weights = np.random.randn(num_weights) * 0.05 \n",
    "            bias = (np.random.randn(1) * 0.05)[0] \n",
    "            neurons_layer.append(Neuron(weights, bias))\n",
    "        return neurons_layer\n",
    "        \n",
    "    def forward_pass(self, inputs):\n",
    "        outputs_hidden = self.feed_forward(inputs, self.hidden_layer)\n",
    "        return self.feed_forward(outputs_hidden, self.output_layer)\n",
    "    \n",
    "    def backward_pass(self, targets):\n",
    "        \"\"\"\n",
    "            TODO: \n",
    "        \"\"\"\n",
    "\n",
    "    # calculando deltas para a camada de saida (output layer)    \n",
    "    def compute_deltas(self, targets):\n",
    "        for neuron, target in zip(self.output_layer, targets):\n",
    "            neuron.calculate_delta(target)\n",
    "        \n",
    "    # Atualização dos pesos, só pode ser executado se o calculo dos deltas for realizado antes    \n",
    "    def update_output_weights(self):\n",
    "        for o_neuron in self.output_layer:\n",
    "            errors_total_weights = []\n",
    "            for h_neuron, o_weights in zip(self.hidden_layer, o_neuron.weights):\n",
    "                errors_total_weights.append(o_neuron.delta * h_neuron.output)\n",
    "            o_neuron.update_weights(self.LEARNING_RATE, errors_total_weights)\n",
    "        \n",
    "    def feed_forward(self, inputs, neurons):\n",
    "        outputs = []\n",
    "        for neuron in neurons:\n",
    "            outputs.append(neuron.calculate_output(inputs))\n",
    "        return outputs\n",
    "    \n",
    "    def calculate_error(self, target, output):\n",
    "        return (0.5)*(target - output)**2\n",
    "    \n",
    "    def calculate_total_error(self, targets, outputs):\n",
    "        total_error = 0.0\n",
    "        for target, output in zip(targets, outputs):\n",
    "            total_error += self.calculate_error(target, output)\n",
    "        return total_error\n",
    "    "
   ]
  },
  {
   "cell_type": "markdown",
   "metadata": {},
   "source": [
    "Para testar, utilizaremos os seguintes dados do exemplo."
   ]
  },
  {
   "cell_type": "code",
   "execution_count": 272,
   "metadata": {},
   "outputs": [
    {
     "data": {
      "text/plain": [
       "0.2391260567730776"
      ]
     },
     "execution_count": 272,
     "metadata": {},
     "output_type": "execute_result"
    }
   ],
   "source": [
    "inputs = [.05, .10]\n",
    "targets = [.01, .99]\n",
    "\n",
    "nn = NeuralNetwork(num_inputs=2, num_hidden=2, num_outputs=2)\n",
    "nn_out = nn.forward_pass(inputs)\n",
    "nn.calculate_total_error(nn_out, targets)"
   ]
  },
  {
   "cell_type": "code",
   "execution_count": 273,
   "metadata": {},
   "outputs": [
    {
     "name": "stdout",
     "output_type": "stream",
     "text": [
      "----- Hidden Layer outputs -----\n",
      "0.47986518768683384\n",
      "0.5028108047389781\n"
     ]
    }
   ],
   "source": [
    "print(\"----- Hidden Layer outputs -----\")\n",
    "for n in nn.hidden_layer:\n",
    "    print(n.output)  "
   ]
  },
  {
   "cell_type": "code",
   "execution_count": 274,
   "metadata": {},
   "outputs": [
    {
     "name": "stdout",
     "output_type": "stream",
     "text": [
      "----- Output Layer outputs -----\n",
      "0.5057756187064809\n",
      "0.5078603423878499\n"
     ]
    }
   ],
   "source": [
    "print(\"----- Output Layer outputs -----\")\n",
    "for n in nn.output_layer:\n",
    "    print(n.output)  "
   ]
  },
  {
   "cell_type": "markdown",
   "metadata": {},
   "source": [
    "Apos o backward pass os pesos da Output Layer devem ser alterados para os seguintes valores:\n",
    "[0.35891648, 0.408666186], [ 0.511301270, 0.561370121]"
   ]
  },
  {
   "cell_type": "code",
   "execution_count": 275,
   "metadata": {},
   "outputs": [
    {
     "name": "stdout",
     "output_type": "stream",
     "text": [
      "----- Output Layer Weights -----\n",
      "[0.04140192 0.06325005]\n",
      "[-0.13728626  0.05893634]\n"
     ]
    }
   ],
   "source": [
    "print(\"----- Output Layer Weights -----\")    \n",
    "for n in nn.output_layer:\n",
    "    print(n.weights)    "
   ]
  },
  {
   "cell_type": "markdown",
   "metadata": {},
   "source": [
    "Apos o backward pass os pesos da Hidden Layer devem ser alterados para os seguintes valores:\n",
    "[,], [,]"
   ]
  },
  {
   "cell_type": "code",
   "execution_count": 276,
   "metadata": {},
   "outputs": [
    {
     "name": "stdout",
     "output_type": "stream",
     "text": [
      "----- Hidden Layer Weights -----\n",
      "[-0.04323615 -0.02677428]\n",
      "[ 0.0257965  -0.02744653]\n"
     ]
    }
   ],
   "source": [
    "print(\"----- Hidden Layer Weights -----\")    \n",
    "for n in nn.hidden_layer:\n",
    "    print(n.weights)"
   ]
  },
  {
   "cell_type": "code",
   "execution_count": 277,
   "metadata": {},
   "outputs": [
    {
     "name": "stdout",
     "output_type": "stream",
     "text": [
      "[0.01166771 0.03209404]\n",
      "[-0.10837316  0.08923198]\n"
     ]
    }
   ],
   "source": [
    "nn.compute_deltas(targets)\n",
    "nn.update_output_weights()\n",
    "\n",
    "for n in nn.output_layer:\n",
    "    print(n.weights)"
   ]
  },
  {
   "cell_type": "code",
   "execution_count": null,
   "metadata": {},
   "outputs": [],
   "source": []
  }
 ],
 "metadata": {
  "kernelspec": {
   "display_name": "Python 3",
   "language": "python",
   "name": "python3"
  },
  "language_info": {
   "codemirror_mode": {
    "name": "ipython",
    "version": 3
   },
   "file_extension": ".py",
   "mimetype": "text/x-python",
   "name": "python",
   "nbconvert_exporter": "python",
   "pygments_lexer": "ipython3",
   "version": "3.6.5"
  }
 },
 "nbformat": 4,
 "nbformat_minor": 2
}
