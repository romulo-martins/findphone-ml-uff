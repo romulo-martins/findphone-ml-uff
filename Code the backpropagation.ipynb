{
 "cells": [
  {
   "cell_type": "markdown",
   "metadata": {},
   "source": [
    "# Code The Backpropagation\n"
   ]
  },
  {
   "cell_type": "markdown",
   "metadata": {},
   "source": [
    "Esta implementação foi baseada no exemplo do notebook backpropagation passo-a-passo, tanto os dados quanto as ideias."
   ]
  },
  {
   "cell_type": "markdown",
   "metadata": {},
   "source": [
    "Para implementar o código do algoritmo backpropagation, primeiramente vamos alterar o formato dos dados."
   ]
  },
  {
   "cell_type": "code",
   "execution_count": 24,
   "metadata": {
    "collapsed": true
   },
   "outputs": [],
   "source": [
    "out_weights = [[.40, .45], [.50, .55]]\n",
    "hidden_weights = [[.15, .20], [.25, .30]]\n",
    "biases = [.35, .60]\n",
    "inputs = [.05, .10]\n",
    "outputs = [.01, .99]"
   ]
  },
  {
   "cell_type": "code",
   "execution_count": 35,
   "metadata": {
    "collapsed": true
   },
   "outputs": [],
   "source": [
    "import numpy as np\n",
    "\n",
    "def logistic(net):\n",
    "    return 1 / (1 + np.exp(-net))\n",
    "\n",
    "def net(weights, inputs, bias):\n",
    "#     sum = 0\n",
    "#     for i in range(0, len(inputs)):\n",
    "#         sum += weights[i]*inputs[i]\n",
    "#     return sum + bias\n",
    "    return np.dot(weights, inputs) + bias\n",
    "\n",
    "def foward(total_weights, inputs, biases):\n",
    "    \"\"\"\n",
    "        TODO: \n",
    "    \"\"\"\n",
    "    pass"
   ]
  },
  {
   "cell_type": "code",
   "execution_count": 36,
   "metadata": {},
   "outputs": [
    {
     "data": {
      "text/plain": [
       "[0.59326999210718723, 0.59688437825976703]"
      ]
     },
     "execution_count": 36,
     "metadata": {},
     "output_type": "execute_result"
    }
   ],
   "source": [
    "out_h = []\n",
    "out_h.append( logistic(net(hidden_weights[0], inputs, biases[0])) ) \n",
    "out_h.append( logistic(net(hidden_weights[1], inputs, biases[0])) )\n",
    "out_h"
   ]
  },
  {
   "cell_type": "code",
   "execution_count": 37,
   "metadata": {},
   "outputs": [
    {
     "data": {
      "text/plain": [
       "[0.75136506955231575, 0.77292846532146253]"
      ]
     },
     "execution_count": 37,
     "metadata": {},
     "output_type": "execute_result"
    }
   ],
   "source": [
    "out_o = []\n",
    "out_o.append( logistic(net(out_weights[0], out_h, biases[1])) ) \n",
    "out_o.append( logistic(net(out_weights[1], out_h, biases[1])) )\n",
    "out_o"
   ]
  },
  {
   "cell_type": "code",
   "execution_count": null,
   "metadata": {},
   "outputs": [],
   "source": []
  },
  {
   "cell_type": "code",
   "execution_count": null,
   "metadata": {
    "collapsed": true
   },
   "outputs": [],
   "source": []
  }
 ],
 "metadata": {
  "kernelspec": {
   "display_name": "Python 2",
   "language": "python",
   "name": "python2"
  },
  "language_info": {
   "codemirror_mode": {
    "name": "ipython",
    "version": 2
   },
   "file_extension": ".py",
   "mimetype": "text/x-python",
   "name": "python",
   "nbconvert_exporter": "python",
   "pygments_lexer": "ipython2",
   "version": "2.7.12"
  }
 },
 "nbformat": 4,
 "nbformat_minor": 2
}
