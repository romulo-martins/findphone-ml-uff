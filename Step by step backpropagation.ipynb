{
 "cells": [
  {
   "cell_type": "markdown",
   "metadata": {},
   "source": [
    "# Backpropagation: Exemplo passo-a-passo\n",
    "\n"
   ]
  },
  {
   "cell_type": "markdown",
   "metadata": {},
   "source": [
    "Neste notebook, faremos um exemplo passo a passo do algoritmo backpropagation em python. Foi baseado no post \n",
    "[A Step By Step Backpropagation](https://mattmazur.com/2015/03/17/a-step-by-step-backpropagation-example/).\n"
   ]
  },
  {
   "cell_type": "markdown",
   "metadata": {},
   "source": [
    "Primeiramente vamos começar com os dados iniciais de pesos, bias e dados de treinamento (input/output)."
   ]
  },
  {
   "cell_type": "markdown",
   "metadata": {},
   "source": [
    "![Exemplo de rede utilizada](img/neural_network.png)"
   ]
  },
  {
   "cell_type": "code",
   "execution_count": 9,
   "metadata": {
    "collapsed": true
   },
   "outputs": [],
   "source": [
    "weights = [.15, .20, .25, .30, .40, .45, .50, .55]\n",
    "bias = [.35, .60]\n",
    "inputs = [.05, .10]\n",
    "outputs = [.01, .99]"
   ]
  },
  {
   "cell_type": "markdown",
   "metadata": {},
   "source": [
    "O objetivo do backpropagation é otimizar o valor dos pesos para que a rede neural possa mapear corretamente os inputs aos outputs."
   ]
  },
  {
   "cell_type": "markdown",
   "metadata": {},
   "source": [
    "## The Forward Pass"
   ]
  },
  {
   "cell_type": "markdown",
   "metadata": {},
   "source": [
    "Primeiramente vamos verificar o que a rede neural com os dados iniciais preve, para isso vamos por os inputs que passará atraves da rede e vai dar um output diferente do esperado, com isso em seguida calcularemos os erros. Relembrando a função net temos:"
   ]
  },
  {
   "cell_type": "markdown",
   "metadata": {},
   "source": [
    "$ \\hat{y} = f\\left(\\text{net}\\right)= f\\left(\\vec{w}\\cdot\\vec{x}+b\\right) = f\\left(\\sum_{i=1}^{n}{w_i x_i + b}\\right). $"
   ]
  },
  {
   "cell_type": "code",
   "execution_count": 10,
   "metadata": {},
   "outputs": [
    {
     "data": {
      "text/plain": [
       "0.3775"
      ]
     },
     "execution_count": 10,
     "metadata": {},
     "output_type": "execute_result"
    }
   ],
   "source": [
    "net_h1 = weights[0]*inputs[0] + weights[1]*inputs[1] + bias[0]\n",
    "net_h1"
   ]
  },
  {
   "cell_type": "markdown",
   "metadata": {},
   "source": [
    "Criaremos em python a função logistica: \n",
    "$ \\hat{y} = f(\\text{net}) = \\frac{1}{1 + e^{(-\\text{net})}}. $\n"
   ]
  },
  {
   "cell_type": "code",
   "execution_count": 11,
   "metadata": {
    "collapsed": true
   },
   "outputs": [],
   "source": [
    "import numpy as np"
   ]
  },
  {
   "cell_type": "code",
   "execution_count": 12,
   "metadata": {
    "collapsed": true
   },
   "outputs": [],
   "source": [
    "def logistic(net):\n",
    "    return 1.0 / (1.0 + np.exp(-net))"
   ]
  },
  {
   "cell_type": "markdown",
   "metadata": {},
   "source": [
    "Agora passaremos os dados para ela"
   ]
  },
  {
   "cell_type": "code",
   "execution_count": 13,
   "metadata": {},
   "outputs": [
    {
     "data": {
      "text/plain": [
       "0.59326999210718723"
      ]
     },
     "execution_count": 13,
     "metadata": {},
     "output_type": "execute_result"
    }
   ],
   "source": [
    "out_h1 = logistic(net_h1)\n",
    "out_h1"
   ]
  },
  {
   "cell_type": "markdown",
   "metadata": {},
   "source": [
    "Realizando o mesmo processo para out_h2 temos:"
   ]
  },
  {
   "cell_type": "code",
   "execution_count": 14,
   "metadata": {},
   "outputs": [
    {
     "data": {
      "text/plain": [
       "0.59688437825976703"
      ]
     },
     "execution_count": 14,
     "metadata": {},
     "output_type": "execute_result"
    }
   ],
   "source": [
    "net_h2 = weights[2]*inputs[0] + weights[3]*inputs[1] + bias[0]\n",
    "out_h2 = logistic(net_h2)\n",
    "out_h2"
   ]
  },
  {
   "cell_type": "markdown",
   "metadata": {
    "collapsed": true
   },
   "source": [
    "Agora vamos repetir este processo com as saidas obtidas, assim como mostra a figura acima."
   ]
  },
  {
   "cell_type": "code",
   "execution_count": 15,
   "metadata": {},
   "outputs": [
    {
     "data": {
      "text/plain": [
       "0.75136506955231575"
      ]
     },
     "execution_count": 15,
     "metadata": {},
     "output_type": "execute_result"
    }
   ],
   "source": [
    "net_o1 = weights[4]*out_h1 + weights[5]*out_h2 + bias[1]\n",
    "out_o1 = logistic(net_o1)\n",
    "out_o1"
   ]
  },
  {
   "cell_type": "code",
   "execution_count": 16,
   "metadata": {},
   "outputs": [
    {
     "data": {
      "text/plain": [
       "0.77292846532146253"
      ]
     },
     "execution_count": 16,
     "metadata": {},
     "output_type": "execute_result"
    }
   ],
   "source": [
    "net_o2 = weights[6]*out_h1 + weights[7]*out_h2 + bias[1]\n",
    "out_o2 = logistic(net_o2)\n",
    "out_o2"
   ]
  },
  {
   "cell_type": "markdown",
   "metadata": {},
   "source": [
    "## Calculating the Total Error\n"
   ]
  },
  {
   "cell_type": "markdown",
   "metadata": {},
   "source": [
    "Para calcular o erro temos:\n",
    "$ E_{total} = \\frac{1}{2} \\sum \\left(target - output \\right)^2\\,. $"
   ]
  },
  {
   "cell_type": "code",
   "execution_count": 17,
   "metadata": {
    "collapsed": true
   },
   "outputs": [],
   "source": [
    "def error(target, output):\n",
    "    return 1.0/2.0 * (target - output)**2"
   ]
  },
  {
   "cell_type": "markdown",
   "metadata": {},
   "source": [
    "Agora podemos computar as duas saidas"
   ]
  },
  {
   "cell_type": "code",
   "execution_count": 18,
   "metadata": {},
   "outputs": [
    {
     "data": {
      "text/plain": [
       "0.27481108317615499"
      ]
     },
     "execution_count": 18,
     "metadata": {},
     "output_type": "execute_result"
    }
   ],
   "source": [
    "error_o1 = error(out_o1, outputs[0])\n",
    "error_o1"
   ]
  },
  {
   "cell_type": "code",
   "execution_count": 19,
   "metadata": {},
   "outputs": [
    {
     "data": {
      "text/plain": [
       "0.023560025583847746"
      ]
     },
     "execution_count": 19,
     "metadata": {},
     "output_type": "execute_result"
    }
   ],
   "source": [
    "error_o2 = error(out_o2, outputs[1])\n",
    "error_o2"
   ]
  },
  {
   "cell_type": "code",
   "execution_count": 20,
   "metadata": {},
   "outputs": [
    {
     "data": {
      "text/plain": [
       "0.29837110876000272"
      ]
     },
     "execution_count": 20,
     "metadata": {},
     "output_type": "execute_result"
    }
   ],
   "source": [
    "error_total = error_o1 + error_o2\n",
    "error_total"
   ]
  },
  {
   "cell_type": "markdown",
   "metadata": {},
   "source": [
    "## The Backward Pass"
   ]
  },
  {
   "cell_type": "markdown",
   "metadata": {},
   "source": [
    "Nosso objetivo é atualizar cada um dos pesos da rede para que os novos inputs estajam o mais proximo possivel dos outputs reais que são informados na fase de treinamento. Minimizando o erro de cada neuronio de saida e da rede como um todo."
   ]
  },
  {
   "cell_type": "markdown",
   "metadata": {},
   "source": [
    "![Exemplo de propagacao](img/output_1_backprop-4.png)"
   ]
  },
  {
   "cell_type": "markdown",
   "metadata": {},
   "source": [
    "Agora vamos desmenbrar cada um dos elementos de \n",
    "$ \\frac{\\partial E_{total}}{\\partial w_5} = \\frac{\\partial E_{total}}{\\partial out_{o1}} * \\frac{\\partial out_{o1}}{\\partial net_{o1}} * \\frac{\\partial net_{o1}}{\\partial w_5} $ \n",
    "individualmente e depois juntar os elementos."
   ]
  },
  {
   "cell_type": "markdown",
   "metadata": {},
   "source": [
    "Para o primeiro elemento do produto temos: "
   ]
  },
  {
   "cell_type": "markdown",
   "metadata": {},
   "source": [
    "$ E_{total} = \\frac{1}{2} * (target_{o1} - out_{o1})^2 + \\frac{1}{2} * (target_{o2} - out_{o2})^2 $"
   ]
  },
  {
   "cell_type": "markdown",
   "metadata": {},
   "source": [
    "$ \\frac{\\partial E_{total}}{\\partial out_{o1}}  = 2 * \\frac{1}{2} * (target_{o1} - out_{o1})^{2-1} * {-1} + 0 $"
   ]
  },
  {
   "cell_type": "markdown",
   "metadata": {},
   "source": [
    "$ = - (target_{o1} - out_{o1}) $"
   ]
  },
  {
   "cell_type": "markdown",
   "metadata": {},
   "source": [
    "$ = out_{o1} - target_{o1} $"
   ]
  },
  {
   "cell_type": "markdown",
   "metadata": {},
   "source": [
    "Para o segundo temos:"
   ]
  },
  {
   "cell_type": "markdown",
   "metadata": {},
   "source": [
    "$ out_{o1} = \\frac{1}{1 + e^{-\\text{net}}} $"
   ]
  },
  {
   "cell_type": "markdown",
   "metadata": {},
   "source": [
    "$ \\frac{\\partial out_{o1}}{\\partial net_{o1}} = -1 * (1 + e^{\\text{-net}})^{-1 -1} * e^{-net} * -1 $"
   ]
  },
  {
   "cell_type": "markdown",
   "metadata": {},
   "source": [
    "$ = \\frac{e^{-\\text{net}}}{(1 + e^{-\\text{net}})^2 } $"
   ]
  },
  {
   "cell_type": "markdown",
   "metadata": {},
   "source": [
    "$ = \\frac{1 + e^{-\\text{-net}} -1}{(1 + e^{-\\text{net}})^2} $"
   ]
  },
  {
   "cell_type": "markdown",
   "metadata": {},
   "source": [
    "$ = \\frac{1 + e^{-\\text{-net}}}{(1 + e^{-\\text{net}})^2} - (\\frac{1}{1 + e^{-\\text{net}}})^2 $"
   ]
  },
  {
   "cell_type": "markdown",
   "metadata": {},
   "source": [
    "$ = \\frac{1}{(1 + e^{-\\text{net}})} - (\\frac{1}{1 + e^{-\\text{net}}})^2 $"
   ]
  },
  {
   "cell_type": "markdown",
   "metadata": {},
   "source": [
    "$ = out_{o1} - out_{o1}^2 $"
   ]
  },
  {
   "cell_type": "markdown",
   "metadata": {},
   "source": [
    "$ = out_{o1}*(1 - out_{o1}) $"
   ]
  },
  {
   "cell_type": "markdown",
   "metadata": {},
   "source": [
    "E por ultimo ..."
   ]
  },
  {
   "cell_type": "markdown",
   "metadata": {},
   "source": [
    "$ net_{o1} = w_5 * out_{h1} + w_6 * out_{h2} + b_2*1 $"
   ]
  },
  {
   "cell_type": "markdown",
   "metadata": {},
   "source": [
    "$ \\frac{ \\partial net_{o1}}{\\partial w_5} = 1 * out_{h1} * w_5 ^ {1 - 1} + 0 + 0 = out_{h1} $"
   ]
  },
  {
   "cell_type": "markdown",
   "metadata": {},
   "source": [
    "Juntando tudo: "
   ]
  },
  {
   "cell_type": "markdown",
   "metadata": {},
   "source": [
    "$ \\frac{\\partial E_{total}}{\\partial w_5} = (out_{o1} - target_{o1}) * out_{o1}*(1 - out_{o1}) * out_{h1} $"
   ]
  },
  {
   "cell_type": "code",
   "execution_count": 38,
   "metadata": {},
   "outputs": [
    {
     "data": {
      "text/plain": [
       "0.08216704056423077"
      ]
     },
     "execution_count": 38,
     "metadata": {},
     "output_type": "execute_result"
    }
   ],
   "source": [
    "e_total_w_5 = (out_o1 - outputs[0]) * out_o1 * (1 - out_o1) * out_h1 \n",
    "e_total_w_5"
   ]
  },
  {
   "cell_type": "markdown",
   "metadata": {},
   "source": [
    "Atualizando o peso $ w_5 $ utilizamos $ w_5^+ = w_5 + \\eta * \\frac{\\partial E_{total}}{\\partial w_5} $"
   ]
  },
  {
   "cell_type": "code",
   "execution_count": 39,
   "metadata": {},
   "outputs": [
    {
     "data": {
      "text/plain": [
       "0.35891647971788465"
      ]
     },
     "execution_count": 39,
     "metadata": {},
     "output_type": "execute_result"
    }
   ],
   "source": [
    "w_5_plus = weights[4] - 0.5 * e_total_w_5\n",
    "w_5_plus"
   ]
  },
  {
   "cell_type": "markdown",
   "metadata": {},
   "source": [
    "Repetindo o processo para os outros pesos temos: "
   ]
  },
  {
   "cell_type": "code",
   "execution_count": 33,
   "metadata": {},
   "outputs": [
    {
     "data": {
      "text/plain": [
       "0.4086661860762334"
      ]
     },
     "execution_count": 33,
     "metadata": {},
     "output_type": "execute_result"
    }
   ],
   "source": [
    "e_total_w_6 = (out_o1 - outputs[0]) * out_o1 * (1 - out_o1) * out_h2 \n",
    "w_6_plus = weights[5] - 0.5 * e_total_w_6\n",
    "w_6_plus"
   ]
  },
  {
   "cell_type": "code",
   "execution_count": 40,
   "metadata": {},
   "outputs": [
    {
     "data": {
      "text/plain": [
       "0.5113012702387375"
      ]
     },
     "execution_count": 40,
     "metadata": {},
     "output_type": "execute_result"
    }
   ],
   "source": [
    "e_total_w_7 = (out_o2 - outputs[1]) * out_o2 * (1 - out_o2) * out_h1 \n",
    "w_7_plus = weights[6] - 0.5 * e_total_w_7\n",
    "w_7_plus"
   ]
  },
  {
   "cell_type": "code",
   "execution_count": 41,
   "metadata": {},
   "outputs": [
    {
     "data": {
      "text/plain": [
       "0.56137012110798912"
      ]
     },
     "execution_count": 41,
     "metadata": {},
     "output_type": "execute_result"
    }
   ],
   "source": [
    "e_total_w_8 = (out_o2 - outputs[1]) * out_o2 * (1 - out_o2) * out_h2\n",
    "w_8_plus = weights[7] - 0.5 * e_total_w_8\n",
    "w_8_plus"
   ]
  },
  {
   "cell_type": "code",
   "execution_count": null,
   "metadata": {
    "collapsed": true
   },
   "outputs": [],
   "source": []
  }
 ],
 "metadata": {
  "kernelspec": {
   "display_name": "Python 3",
   "language": "python",
   "name": "python3"
  },
  "language_info": {
   "codemirror_mode": {
    "name": "ipython",
    "version": 3
   },
   "file_extension": ".py",
   "mimetype": "text/x-python",
   "name": "python",
   "nbconvert_exporter": "python",
   "pygments_lexer": "ipython3",
   "version": "3.6.5"
  }
 },
 "nbformat": 4,
 "nbformat_minor": 2
}
